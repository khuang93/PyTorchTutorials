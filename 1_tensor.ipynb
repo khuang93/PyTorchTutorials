{
 "metadata": {
  "language_info": {
   "codemirror_mode": {
    "name": "ipython",
    "version": 3
   },
   "file_extension": ".py",
   "mimetype": "text/x-python",
   "name": "python",
   "nbconvert_exporter": "python",
   "pygments_lexer": "ipython3",
   "version": "3.8.5-final"
  },
  "orig_nbformat": 2,
  "kernelspec": {
   "name": "python3",
   "display_name": "Python 3.8.5 64-bit ('pytorch': conda)",
   "metadata": {
    "interpreter": {
     "hash": "6ad94d82d3ecabd28927562553974bc37d539b9912c1a63a0cbd2faed0139ab3"
    }
   }
  }
 },
 "nbformat": 4,
 "nbformat_minor": 2,
 "cells": [
  {
   "cell_type": "code",
   "execution_count": 2,
   "metadata": {},
   "outputs": [],
   "source": [
    "import numpy as np\n",
    "import torch"
   ]
  },
  {
   "cell_type": "code",
   "execution_count": 4,
   "metadata": {},
   "outputs": [],
   "source": [
    "data = [[1, 2],[3, 4]]\n",
    "x_data = torch.tensor(data)\n",
    "np_array = np.array(data)\n",
    "x_np = torch.from_numpy(np_array)"
   ]
  },
  {
   "cell_type": "code",
   "execution_count": 5,
   "metadata": {},
   "outputs": [
    {
     "output_type": "stream",
     "name": "stdout",
     "text": [
      "tensor([[1, 2],\n        [3, 4]])\ntensor([[1, 2],\n        [3, 4]], dtype=torch.int32)\n"
     ]
    }
   ],
   "source": [
    "print(x_data)\n",
    "print(x_np)"
   ]
  },
  {
   "cell_type": "code",
   "execution_count": 6,
   "metadata": {},
   "outputs": [
    {
     "output_type": "stream",
     "name": "stdout",
     "text": [
      "Ones Tensor: \n tensor([[1, 1],\n        [1, 1]]) \n\nRandom Tensor: \n tensor([[0.9084, 0.8020],\n        [0.5976, 0.5336]]) \n\n"
     ]
    }
   ],
   "source": [
    "x_ones = torch.ones_like(x_data) # retains the properties of x_data\n",
    "print(f\"Ones Tensor: \\n {x_ones} \\n\")\n",
    "\n",
    "x_rand = torch.rand_like(x_data, dtype=torch.float) # overrides the datatype of x_data\n",
    "print(f\"Random Tensor: \\n {x_rand} \\n\")"
   ]
  },
  {
   "cell_type": "code",
   "execution_count": 9,
   "metadata": {},
   "outputs": [
    {
     "output_type": "stream",
     "name": "stdout",
     "text": [
      "Random Tensor: \n tensor([[0.4200, 0.4101, 0.8837, 0.6015],\n        [0.5575, 0.8446, 0.7542, 0.7419]]) \n\nOnes Tensor: \n tensor([[1., 1., 1., 1.],\n        [1., 1., 1., 1.]]) \n\nZeros Tensor: \n tensor([[0., 0., 0., 0.],\n        [0., 0., 0., 0.]])\n"
     ]
    }
   ],
   "source": [
    "shape=(2,4,)\n",
    "rand_tensor = torch.rand(shape)\n",
    "ones_tensor = torch.ones(shape)\n",
    "zeros_tensor = torch.zeros(shape)\n",
    "\n",
    "print(f\"Random Tensor: \\n {rand_tensor} \\n\")\n",
    "print(f\"Ones Tensor: \\n {ones_tensor} \\n\")\n",
    "print(f\"Zeros Tensor: \\n {zeros_tensor}\")"
   ]
  },
  {
   "cell_type": "code",
   "execution_count": 10,
   "metadata": {},
   "outputs": [
    {
     "output_type": "stream",
     "name": "stdout",
     "text": [
      "Shape of tensor: torch.Size([2, 4])\nDatatype of tensor: torch.float32\nDevice tensor is stored on: cpu\n"
     ]
    }
   ],
   "source": [
    "print(f\"Shape of tensor: {rand_tensor.shape}\")\n",
    "print(f\"Datatype of tensor: {rand_tensor.dtype}\")\n",
    "print(f\"Device tensor is stored on: {rand_tensor.device}\")"
   ]
  },
  {
   "cell_type": "code",
   "execution_count": 11,
   "metadata": {},
   "outputs": [
    {
     "output_type": "stream",
     "name": "stdout",
     "text": [
      "Device tensor is stored on: cuda:0\n"
     ]
    }
   ],
   "source": [
    "if torch.cuda.is_available():\n",
    "  rand_tensor = rand_tensor.to('cuda')\n",
    "print(f\"Device tensor is stored on: {rand_tensor.device}\")"
   ]
  },
  {
   "cell_type": "code",
   "execution_count": 12,
   "metadata": {},
   "outputs": [
    {
     "output_type": "stream",
     "name": "stdout",
     "text": [
      "tensor([[0.0000, 0.0000, 0.0000, 0.0000],\n        [0.5575, 0.8446, 0.7542, 0.7419]], device='cuda:0')\n"
     ]
    }
   ],
   "source": [
    "rand_tensor[:1]=0\n",
    "print(rand_tensor)"
   ]
  },
  {
   "cell_type": "code",
   "execution_count": 22,
   "metadata": {},
   "outputs": [
    {
     "output_type": "stream",
     "name": "stdout",
     "text": [
      "tensor([[0.0000, 0.0000, 0.0000, 0.0000, 0.0000, 0.0000, 0.0000, 0.0000],\n        [0.5575, 0.8446, 0.7542, 0.7419, 0.5575, 0.8446, 0.7542, 0.7419]],\n       device='cuda:0')\ncpu\ncuda:0\ntensor([[[0.0000, 0.0000, 0.0000, 0.0000],\n         [0.0000, 0.0000, 0.0000, 0.0000]],\n\n        [[0.5575, 0.8446, 0.7542, 0.7419],\n         [0.5575, 0.8446, 0.7542, 0.7419]]], device='cuda:0')\n"
     ]
    }
   ],
   "source": [
    "cat = torch.cat([rand_tensor,rand_tensor],dim=1)\n",
    "print(cat)\n",
    "cpu_cat = cat.to('cpu')\n",
    "print(cpu_cat.device)\n",
    "print(cat.device)\n",
    "\n",
    "stacked = torch.stack([rand_tensor,rand_tensor],dim=1)\n",
    "print(stacked)"
   ]
  },
  {
   "cell_type": "code",
   "execution_count": 30,
   "metadata": {},
   "outputs": [
    {
     "output_type": "stream",
     "name": "stdout",
     "text": [
      "[[6.        6.        6.        6.        6.        6.        6.\n  6.       ]\n [6.557539  6.8446383 6.7542253 6.7419267 6.557539  6.8446383 6.7542253\n  6.7419267]]\ntensor([[7.0000, 7.0000, 7.0000, 7.0000, 7.0000, 7.0000, 7.0000, 7.0000],\n        [7.5575, 7.8446, 7.7542, 7.7419, 7.5575, 7.8446, 7.7542, 7.7419]])\n[[7.        7.        7.        7.        7.        7.        7.\n  7.       ]\n [7.557539  7.8446383 7.7542253 7.7419267 7.557539  7.8446383 7.7542253\n  7.7419267]]\n"
     ]
    },
    {
     "output_type": "execute_result",
     "data": {
      "text/plain": [
       "array([[8.      , 8.      , 8.      , 8.      , 8.      , 8.      ,\n",
       "        8.      , 8.      ],\n",
       "       [8.557539, 8.844639, 8.754225, 8.741926, 8.557539, 8.844639,\n",
       "        8.754225, 8.741926]], dtype=float32)"
      ]
     },
     "metadata": {},
     "execution_count": 30
    }
   ],
   "source": [
    "nparray = cpu_cat.numpy()\n",
    "print(nparray)\n",
    "print(cpu_cat.add_(1))\n",
    "print(nparray)\n",
    "np.add(nparray,1,out=nparray)"
   ]
  }
 ]
}